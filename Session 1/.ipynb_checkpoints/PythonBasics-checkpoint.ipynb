{
 "cells": [
  {
   "cell_type": "markdown",
   "metadata": {},
   "source": [
    "# Python Basics"
   ]
  },
  {
   "cell_type": "code",
   "execution_count": 1,
   "metadata": {},
   "outputs": [
    {
     "name": "stdout",
     "output_type": "stream",
     "text": [
      "h\n",
      "12\n",
      "hello world \n"
     ]
    }
   ],
   "source": [
    "# Strings\n",
    "data = 'hello world '\n",
    "print(data[0])\n",
    "print(len(data))\n",
    "print(data)"
   ]
  },
  {
   "cell_type": "code",
   "execution_count": 2,
   "metadata": {},
   "outputs": [
    {
     "name": "stdout",
     "output_type": "stream",
     "text": [
      "123.1\n",
      "10\n"
     ]
    }
   ],
   "source": [
    "# Numbers\n",
    "value = 123.1\n",
    "print(value)\n",
    "value = 10\n",
    "print(value)"
   ]
  },
  {
   "cell_type": "code",
   "execution_count": 3,
   "metadata": {},
   "outputs": [
    {
     "name": "stdout",
     "output_type": "stream",
     "text": [
      "True False 10\n"
     ]
    }
   ],
   "source": [
    "# Boolean\n",
    "a = True\n",
    "b = False\n",
    "c=10\n",
    "print(a, b,c)"
   ]
  },
  {
   "cell_type": "code",
   "execution_count": 4,
   "metadata": {},
   "outputs": [
    {
     "name": "stdout",
     "output_type": "stream",
     "text": [
      "1 2 3\n"
     ]
    }
   ],
   "source": [
    "# Multiple Assignment\n",
    "a, b, c = 1, 2, 3\n",
    "print(a, b, c)"
   ]
  },
  {
   "cell_type": "code",
   "execution_count": 5,
   "metadata": {},
   "outputs": [
    {
     "name": "stdout",
     "output_type": "stream",
     "text": [
      "None\n"
     ]
    }
   ],
   "source": [
    "# No value\n",
    "a = None\n",
    "print(a)"
   ]
  },
  {
   "cell_type": "code",
   "execution_count": 8,
   "metadata": {},
   "outputs": [
    {
     "name": "stdout",
     "output_type": "stream",
     "text": [
      " That is fast \n"
     ]
    }
   ],
   "source": [
    "value = 99\n",
    "if value == 99:\n",
    "    print(' That is fast ')\n",
    "elif value > 200:\n",
    "    print(' That is too fast ')\n",
    "else:\n",
    "    print(' That is safe ')"
   ]
  },
  {
   "cell_type": "code",
   "execution_count": 4,
   "metadata": {},
   "outputs": [
    {
     "name": "stdout",
     "output_type": "stream",
     "text": [
      "1\n",
      "2\n",
      "3\n",
      "4\n",
      "5\n",
      "6\n",
      "7\n",
      "8\n",
      "9\n"
     ]
    }
   ],
   "source": [
    "# For-Loop\n",
    "for i in range(1,10):\n",
    "    print(i)"
   ]
  },
  {
   "cell_type": "code",
   "execution_count": 12,
   "metadata": {},
   "outputs": [
    {
     "name": "stdout",
     "output_type": "stream",
     "text": [
      "0\n",
      "1\n",
      "2\n",
      "3\n",
      "4\n",
      "5\n",
      "6\n",
      "7\n",
      "8\n",
      "9\n"
     ]
    }
   ],
   "source": [
    "#While loop\n",
    "i = 0\n",
    "while i < 10:\n",
    "    print(i)\n",
    "    i += 1"
   ]
  },
  {
   "cell_type": "code",
   "execution_count": 13,
   "metadata": {},
   "outputs": [
    {
     "name": "stdout",
     "output_type": "stream",
     "text": [
      "(1, 2, 3)\n"
     ]
    }
   ],
   "source": [
    "#tuple\n",
    "a = (1, 2, 3)\n",
    "print(a)"
   ]
  },
  {
   "cell_type": "code",
   "execution_count": 10,
   "metadata": {},
   "outputs": [
    {
     "name": "stdout",
     "output_type": "stream",
     "text": [
      "Zeroth Value32\n",
      "List Length:4\n",
      "1\n",
      "2\n",
      "3\n",
      "4\n"
     ]
    }
   ],
   "source": [
    "mylist = [1, 2, 3]\n",
    "print(\"Zeroth Value{}{}\".format(mylist[2],mylist[1]))\n",
    "mylist.append(4)\n",
    "print(\"List Length:{}\".format(len(mylist)))\n",
    "for value in mylist:\n",
    "    print(value)"
   ]
  },
  {
   "cell_type": "code",
   "execution_count": 19,
   "metadata": {},
   "outputs": [
    {
     "name": "stdout",
     "output_type": "stream",
     "text": [
      "A value:1\n",
      "A value:11\n",
      "Keys: dict_keys([' a ', ' b ', ' c '])\n",
      "Values: dict_values([11, 2, 3])\n",
      "11\n",
      "2\n",
      "3\n"
     ]
    }
   ],
   "source": [
    "mydict = { ' a ' : 1, ' b ' : 2, ' c ' : 3}\n",
    "print(\"A value:{0}\".format(mydict[ ' a ' ])) \n",
    "mydict[ ' a ' ] = 11\n",
    "print(\"A value:{0}\".format(mydict[ ' a ' ])) \n",
    "print(\"Keys: {0}\".format(mydict.keys()))\n",
    "print(\"Values: {0}\".format(mydict.values()))\n",
    "for key in mydict.keys():\n",
    "    print(mydict[key])"
   ]
  },
  {
   "cell_type": "code",
   "execution_count": 20,
   "metadata": {},
   "outputs": [
    {
     "name": "stdout",
     "output_type": "stream",
     "text": [
      "4\n"
     ]
    }
   ],
   "source": [
    "# Sum function\n",
    "def mysum(x, y):\n",
    "    return x + y\n",
    "# Test sum function\n",
    "result = mysum(1, 3)\n",
    "print(result)"
   ]
  },
  {
   "cell_type": "code",
   "execution_count": 1,
   "metadata": {},
   "outputs": [
    {
     "name": "stdout",
     "output_type": "stream",
     "text": [
      "(7, 2, 5)\n"
     ]
    }
   ],
   "source": [
    "def mysum(x,y):\n",
    "    return x+y,x,y\n",
    "\n",
    "print(mysum(2,5))"
   ]
  },
  {
   "cell_type": "markdown",
   "metadata": {},
   "source": [
    "# NumPy"
   ]
  },
  {
   "cell_type": "code",
   "execution_count": 13,
   "metadata": {},
   "outputs": [
    {
     "name": "stdout",
     "output_type": "stream",
     "text": [
      "[1 2 3]\n",
      "(3,)\n"
     ]
    }
   ],
   "source": [
    "# define an array\n",
    "import numpy as np\n",
    "mylist = [1, 2, 3]\n",
    "myarray = np.array(mylist)\n",
    "print(myarray)\n",
    "print(myarray.shape)"
   ]
  },
  {
   "cell_type": "code",
   "execution_count": 17,
   "metadata": {},
   "outputs": [
    {
     "name": "stdout",
     "output_type": "stream",
     "text": [
      "[[1 2 3]\n",
      " [3 4 5]]\n",
      "(2, 3)\n",
      "First row:[1 2 3]\n",
      "Last row: [3 4 5]\n",
      "Specific row and col: 3\n",
      "Whole col: [3 5]\n"
     ]
    }
   ],
   "source": [
    "# access values\n",
    "\n",
    "mylist = [[1, 2, 3], [3, 4, 5]]\n",
    "myarray = np.array(mylist)\n",
    "print(myarray)\n",
    "print(myarray.shape)\n",
    "print(\"First row:{}\".format(myarray[0]))\n",
    "print(\"Last row: {}\".format(myarray[-1]))\n",
    "print(\"Specific row and col: {}\".format(myarray[0][2]))\n",
    "print(\"Whole col: {}\".format(myarray[:, 2]))"
   ]
  },
  {
   "cell_type": "code",
   "execution_count": 26,
   "metadata": {},
   "outputs": [
    {
     "name": "stdout",
     "output_type": "stream",
     "text": [
      "Addition:[5 5 5]\n",
      "Multiplication:[6 6 6]\n"
     ]
    }
   ],
   "source": [
    "myarray1 = np.array([2, 2, 2])\n",
    "myarray2 = np.array([3, 3, 3])\n",
    "print(\"Addition:{0}\".format((myarray1 + myarray2)))\n",
    "print(\"Multiplication:{0}\".format(myarray1 * myarray2))"
   ]
  },
  {
   "cell_type": "markdown",
   "metadata": {},
   "source": [
    "# Matplotlib\n"
   ]
  },
  {
   "cell_type": "code",
   "execution_count": 28,
   "metadata": {},
   "outputs": [
    {
     "data": {
      "image/png": "[encoded data removed]",
      "text/plain": [
       "<Figure size 432x288 with 1 Axes>"
      ]
     },
     "metadata": {
      "needs_background": "light"
     },
     "output_type": "display_data"
    }
   ],
   "source": [
    "# basic line plot\n",
    "import matplotlib.pyplot as plt\n",
    "\n",
    "myarray = np.array([1, 2, 3])\n",
    "plt.plot(myarray)\n",
    "plt.xlabel( ' some x axis ' )\n",
    "plt.ylabel( ' some y axis ' )\n",
    "plt.show()"
   ]
  },
  {
   "cell_type": "code",
   "execution_count": 29,
   "metadata": {},
   "outputs": [
    {
     "data": {
      "image/png": "[encoded data removed]",
      "text/plain": [
       "<Figure size 432x288 with 1 Axes>"
      ]
     },
     "metadata": {
      "needs_background": "light"
     },
     "output_type": "display_data"
    }
   ],
   "source": [
    "# basic scatter plot\n",
    "x = np.array([1, 2, 3])\n",
    "y = np.array([2, 4, 6])\n",
    "plt.scatter(x,y)\n",
    "plt.xlabel( ' some x axis ' )\n",
    "plt.ylabel( ' some y axis ' )\n",
    "plt.show()"
   ]
  },
  {
   "cell_type": "markdown",
   "metadata": {},
   "source": [
    "# Pandas"
   ]
  },
  {
   "cell_type": "code",
   "execution_count": 21,
   "metadata": {},
   "outputs": [
    {
     "name": "stdout",
     "output_type": "stream",
     "text": [
      " a     1\n",
      " b     2\n",
      " c     3\n",
      "dtype: int32\n"
     ]
    }
   ],
   "source": [
    "# series\n",
    "import pandas as pd\n",
    "myarray = np.array([1, 2, 3])\n",
    "rownames = [ ' a ' , ' b ' , ' c ' ]\n",
    "myseries = pd.Series(myarray, index=rownames)\n",
    "print(myseries)"
   ]
  },
  {
   "cell_type": "code",
   "execution_count": 22,
   "metadata": {},
   "outputs": [
    {
     "name": "stdout",
     "output_type": "stream",
     "text": [
      "1\n",
      "1\n"
     ]
    }
   ],
   "source": [
    "print(myseries[0])\n",
    "print(myseries[ ' a ' ])"
   ]
  },
  {
   "cell_type": "code",
   "execution_count": 23,
   "metadata": {},
   "outputs": [
    {
     "data": {
      "text/html": [
       "<div>\n",
       "<style scoped>\n",
       "    .dataframe tbody tr th:only-of-type {\n",
       "        vertical-align: middle;\n",
       "    }\n",
       "\n",
       "    .dataframe tbody tr th {\n",
       "        vertical-align: top;\n",
       "    }\n",
       "\n",
       "    .dataframe thead th {\n",
       "        text-align: right;\n",
       "    }\n",
       "</style>\n",
       "<table border=\"1\" class=\"dataframe\">\n",
       "  <thead>\n",
       "    <tr style=\"text-align: right;\">\n",
       "      <th></th>\n",
       "      <th>one</th>\n",
       "      <th>two</th>\n",
       "      <th>three</th>\n",
       "    </tr>\n",
       "  </thead>\n",
       "  <tbody>\n",
       "    <tr>\n",
       "      <th>a</th>\n",
       "      <td>1</td>\n",
       "      <td>2</td>\n",
       "      <td>3</td>\n",
       "    </tr>\n",
       "    <tr>\n",
       "      <th>b</th>\n",
       "      <td>4</td>\n",
       "      <td>5</td>\n",
       "      <td>6</td>\n",
       "    </tr>\n",
       "  </tbody>\n",
       "</table>\n",
       "</div>"
      ],
      "text/plain": [
       "   one  two  three\n",
       "a    1    2      3\n",
       "b    4    5      6"
      ]
     },
     "execution_count": 23,
     "metadata": {},
     "output_type": "execute_result"
    }
   ],
   "source": [
    "myarray = np.array([[1, 2, 3], [4, 5, 6]])\n",
    "rownames = [ 'a' , 'b' ]\n",
    "colnames = [ 'one' , 'two' , 'three' ]\n",
    "mydataframe = pd.DataFrame(myarray, index=rownames, columns=colnames)\n",
    "mydataframe"
   ]
  },
  {
   "cell_type": "code",
   "execution_count": 24,
   "metadata": {},
   "outputs": [
    {
     "name": "stdout",
     "output_type": "stream",
     "text": [
      "method 1:\n",
      "one column:a    1\n",
      "b    4\n",
      "Name: one, dtype: int32\n",
      "method 2:\n",
      "one column:a    1\n",
      "b    4\n",
      "Name: one, dtype: int32\n"
     ]
    }
   ],
   "source": [
    "print(\"method 1:\")\n",
    "print(\"one column:{0}\".format(mydataframe['one']))\n",
    "print(\"method 2:\")\n",
    "print(\"one column:{0}\".format(mydataframe.one))"
   ]
  },
  {
   "cell_type": "code",
   "execution_count": 33,
   "metadata": {},
   "outputs": [
    {
     "name": "stdout",
     "output_type": "stream",
     "text": [
      "a    3\n",
      "b    6\n",
      "Name: three, dtype: int32\n"
     ]
    }
   ],
   "source": [
    "print(mydataframe.three)"
   ]
  },
  {
   "cell_type": "code",
   "execution_count": 3,
   "metadata": {},
   "outputs": [
    {
     "ename": "NameError",
     "evalue": "name 'pd' is not defined",
     "output_type": "error",
     "traceback": [
      "\u001b[0;31m---------------------------------------------------------------------------\u001b[0m",
      "\u001b[0;31mNameError\u001b[0m                                 Traceback (most recent call last)",
      "\u001b[0;32m<ipython-input-3-e9ff050f2dad>\u001b[0m in \u001b[0;36m<module>\u001b[0;34m\u001b[0m\n\u001b[0;32m----> 1\u001b[0;31m \u001b[0mdf\u001b[0m\u001b[0;34m=\u001b[0m\u001b[0mpd\u001b[0m\u001b[0;34m.\u001b[0m\u001b[0mread_csv\u001b[0m\u001b[0;34m(\u001b[0m\u001b[0;34m'tr_server_data.csv'\u001b[0m\u001b[0;34m,\u001b[0m\u001b[0mnames\u001b[0m\u001b[0;34m=\u001b[0m\u001b[0;34m[\u001b[0m\u001b[0;34m'a'\u001b[0m\u001b[0;34m,\u001b[0m\u001b[0;34m'b'\u001b[0m\u001b[0;34m]\u001b[0m\u001b[0;34m)\u001b[0m\u001b[0;34m\u001b[0m\u001b[0;34m\u001b[0m\u001b[0m\n\u001b[0m",
      "\u001b[0;31mNameError\u001b[0m: name 'pd' is not defined"
     ]
    }
   ],
   "source": [
    "df=pd.read_csv('tr_server_data.csv',names=['a','b'])"
   ]
  },
  {
   "cell_type": "code",
   "execution_count": 39,
   "metadata": {},
   "outputs": [
    {
     "data": {
      "text/html": [
       "<div>\n",
       "<style scoped>\n",
       "    .dataframe tbody tr th:only-of-type {\n",
       "        vertical-align: middle;\n",
       "    }\n",
       "\n",
       "    .dataframe tbody tr th {\n",
       "        vertical-align: top;\n",
       "    }\n",
       "\n",
       "    .dataframe thead th {\n",
       "        text-align: right;\n",
       "    }\n",
       "</style>\n",
       "<table border=\"1\" class=\"dataframe\">\n",
       "  <thead>\n",
       "    <tr style=\"text-align: right;\">\n",
       "      <th></th>\n",
       "      <th>a</th>\n",
       "      <th>b</th>\n",
       "    </tr>\n",
       "  </thead>\n",
       "  <tbody>\n",
       "    <tr>\n",
       "      <th>0</th>\n",
       "      <td>13.0470</td>\n",
       "      <td>14.7410</td>\n",
       "    </tr>\n",
       "    <tr>\n",
       "      <th>1</th>\n",
       "      <td>13.4090</td>\n",
       "      <td>13.7630</td>\n",
       "    </tr>\n",
       "    <tr>\n",
       "      <th>2</th>\n",
       "      <td>14.1960</td>\n",
       "      <td>15.8530</td>\n",
       "    </tr>\n",
       "    <tr>\n",
       "      <th>3</th>\n",
       "      <td>14.9150</td>\n",
       "      <td>16.1740</td>\n",
       "    </tr>\n",
       "    <tr>\n",
       "      <th>4</th>\n",
       "      <td>13.5770</td>\n",
       "      <td>14.0430</td>\n",
       "    </tr>\n",
       "    <tr>\n",
       "      <th>5</th>\n",
       "      <td>13.9220</td>\n",
       "      <td>13.4060</td>\n",
       "    </tr>\n",
       "    <tr>\n",
       "      <th>6</th>\n",
       "      <td>12.8220</td>\n",
       "      <td>14.2230</td>\n",
       "    </tr>\n",
       "    <tr>\n",
       "      <th>7</th>\n",
       "      <td>15.6760</td>\n",
       "      <td>15.8920</td>\n",
       "    </tr>\n",
       "    <tr>\n",
       "      <th>8</th>\n",
       "      <td>16.1630</td>\n",
       "      <td>16.2030</td>\n",
       "    </tr>\n",
       "    <tr>\n",
       "      <th>9</th>\n",
       "      <td>12.6660</td>\n",
       "      <td>14.8990</td>\n",
       "    </tr>\n",
       "    <tr>\n",
       "      <th>10</th>\n",
       "      <td>13.9850</td>\n",
       "      <td>12.9580</td>\n",
       "    </tr>\n",
       "    <tr>\n",
       "      <th>11</th>\n",
       "      <td>14.0610</td>\n",
       "      <td>14.5490</td>\n",
       "    </tr>\n",
       "    <tr>\n",
       "      <th>12</th>\n",
       "      <td>13.3900</td>\n",
       "      <td>15.5620</td>\n",
       "    </tr>\n",
       "    <tr>\n",
       "      <th>13</th>\n",
       "      <td>13.3940</td>\n",
       "      <td>15.6270</td>\n",
       "    </tr>\n",
       "    <tr>\n",
       "      <th>14</th>\n",
       "      <td>13.9790</td>\n",
       "      <td>13.2810</td>\n",
       "    </tr>\n",
       "    <tr>\n",
       "      <th>15</th>\n",
       "      <td>14.1680</td>\n",
       "      <td>14.4660</td>\n",
       "    </tr>\n",
       "    <tr>\n",
       "      <th>16</th>\n",
       "      <td>13.9620</td>\n",
       "      <td>14.7520</td>\n",
       "    </tr>\n",
       "    <tr>\n",
       "      <th>17</th>\n",
       "      <td>14.4590</td>\n",
       "      <td>15.0700</td>\n",
       "    </tr>\n",
       "    <tr>\n",
       "      <th>18</th>\n",
       "      <td>14.5850</td>\n",
       "      <td>15.8270</td>\n",
       "    </tr>\n",
       "    <tr>\n",
       "      <th>19</th>\n",
       "      <td>12.0740</td>\n",
       "      <td>13.0670</td>\n",
       "    </tr>\n",
       "    <tr>\n",
       "      <th>20</th>\n",
       "      <td>13.5490</td>\n",
       "      <td>15.5380</td>\n",
       "    </tr>\n",
       "    <tr>\n",
       "      <th>21</th>\n",
       "      <td>13.9860</td>\n",
       "      <td>14.7880</td>\n",
       "    </tr>\n",
       "    <tr>\n",
       "      <th>22</th>\n",
       "      <td>14.9700</td>\n",
       "      <td>16.5180</td>\n",
       "    </tr>\n",
       "    <tr>\n",
       "      <th>23</th>\n",
       "      <td>14.2560</td>\n",
       "      <td>15.2940</td>\n",
       "    </tr>\n",
       "    <tr>\n",
       "      <th>24</th>\n",
       "      <td>15.3340</td>\n",
       "      <td>16.1250</td>\n",
       "    </tr>\n",
       "    <tr>\n",
       "      <th>25</th>\n",
       "      <td>15.6350</td>\n",
       "      <td>16.4910</td>\n",
       "    </tr>\n",
       "    <tr>\n",
       "      <th>26</th>\n",
       "      <td>13.6210</td>\n",
       "      <td>15.4590</td>\n",
       "    </tr>\n",
       "    <tr>\n",
       "      <th>27</th>\n",
       "      <td>14.8150</td>\n",
       "      <td>15.3400</td>\n",
       "    </tr>\n",
       "    <tr>\n",
       "      <th>28</th>\n",
       "      <td>14.5930</td>\n",
       "      <td>14.6120</td>\n",
       "    </tr>\n",
       "    <tr>\n",
       "      <th>29</th>\n",
       "      <td>14.4890</td>\n",
       "      <td>15.6410</td>\n",
       "    </tr>\n",
       "    <tr>\n",
       "      <th>...</th>\n",
       "      <td>...</td>\n",
       "      <td>...</td>\n",
       "    </tr>\n",
       "    <tr>\n",
       "      <th>277</th>\n",
       "      <td>14.3680</td>\n",
       "      <td>16.7580</td>\n",
       "    </tr>\n",
       "    <tr>\n",
       "      <th>278</th>\n",
       "      <td>13.2630</td>\n",
       "      <td>14.0990</td>\n",
       "    </tr>\n",
       "    <tr>\n",
       "      <th>279</th>\n",
       "      <td>11.9130</td>\n",
       "      <td>14.6130</td>\n",
       "    </tr>\n",
       "    <tr>\n",
       "      <th>280</th>\n",
       "      <td>13.3700</td>\n",
       "      <td>15.1830</td>\n",
       "    </tr>\n",
       "    <tr>\n",
       "      <th>281</th>\n",
       "      <td>15.9950</td>\n",
       "      <td>15.4530</td>\n",
       "    </tr>\n",
       "    <tr>\n",
       "      <th>282</th>\n",
       "      <td>14.1580</td>\n",
       "      <td>13.7710</td>\n",
       "    </tr>\n",
       "    <tr>\n",
       "      <th>283</th>\n",
       "      <td>14.9700</td>\n",
       "      <td>15.5920</td>\n",
       "    </tr>\n",
       "    <tr>\n",
       "      <th>284</th>\n",
       "      <td>14.7510</td>\n",
       "      <td>15.4690</td>\n",
       "    </tr>\n",
       "    <tr>\n",
       "      <th>285</th>\n",
       "      <td>13.3300</td>\n",
       "      <td>14.3470</td>\n",
       "    </tr>\n",
       "    <tr>\n",
       "      <th>286</th>\n",
       "      <td>13.0500</td>\n",
       "      <td>14.6870</td>\n",
       "    </tr>\n",
       "    <tr>\n",
       "      <th>287</th>\n",
       "      <td>13.7760</td>\n",
       "      <td>14.2360</td>\n",
       "    </tr>\n",
       "    <tr>\n",
       "      <th>288</th>\n",
       "      <td>15.1740</td>\n",
       "      <td>15.5100</td>\n",
       "    </tr>\n",
       "    <tr>\n",
       "      <th>289</th>\n",
       "      <td>14.2130</td>\n",
       "      <td>15.0830</td>\n",
       "    </tr>\n",
       "    <tr>\n",
       "      <th>290</th>\n",
       "      <td>13.8210</td>\n",
       "      <td>15.6110</td>\n",
       "    </tr>\n",
       "    <tr>\n",
       "      <th>291</th>\n",
       "      <td>14.1240</td>\n",
       "      <td>14.9550</td>\n",
       "    </tr>\n",
       "    <tr>\n",
       "      <th>292</th>\n",
       "      <td>14.5480</td>\n",
       "      <td>14.8590</td>\n",
       "    </tr>\n",
       "    <tr>\n",
       "      <th>293</th>\n",
       "      <td>14.0990</td>\n",
       "      <td>16.0310</td>\n",
       "    </tr>\n",
       "    <tr>\n",
       "      <th>294</th>\n",
       "      <td>14.5770</td>\n",
       "      <td>14.2570</td>\n",
       "    </tr>\n",
       "    <tr>\n",
       "      <th>295</th>\n",
       "      <td>14.5230</td>\n",
       "      <td>14.2300</td>\n",
       "    </tr>\n",
       "    <tr>\n",
       "      <th>296</th>\n",
       "      <td>14.3000</td>\n",
       "      <td>15.2660</td>\n",
       "    </tr>\n",
       "    <tr>\n",
       "      <th>297</th>\n",
       "      <td>14.5580</td>\n",
       "      <td>15.4870</td>\n",
       "    </tr>\n",
       "    <tr>\n",
       "      <th>298</th>\n",
       "      <td>14.2250</td>\n",
       "      <td>15.8610</td>\n",
       "    </tr>\n",
       "    <tr>\n",
       "      <th>299</th>\n",
       "      <td>12.0400</td>\n",
       "      <td>13.3450</td>\n",
       "    </tr>\n",
       "    <tr>\n",
       "      <th>300</th>\n",
       "      <td>13.0790</td>\n",
       "      <td>9.3479</td>\n",
       "    </tr>\n",
       "    <tr>\n",
       "      <th>301</th>\n",
       "      <td>21.7270</td>\n",
       "      <td>4.1262</td>\n",
       "    </tr>\n",
       "    <tr>\n",
       "      <th>302</th>\n",
       "      <td>12.4770</td>\n",
       "      <td>14.4590</td>\n",
       "    </tr>\n",
       "    <tr>\n",
       "      <th>303</th>\n",
       "      <td>19.5830</td>\n",
       "      <td>10.4120</td>\n",
       "    </tr>\n",
       "    <tr>\n",
       "      <th>304</th>\n",
       "      <td>23.3400</td>\n",
       "      <td>16.2990</td>\n",
       "    </tr>\n",
       "    <tr>\n",
       "      <th>305</th>\n",
       "      <td>18.2610</td>\n",
       "      <td>17.9780</td>\n",
       "    </tr>\n",
       "    <tr>\n",
       "      <th>306</th>\n",
       "      <td>4.7526</td>\n",
       "      <td>24.3500</td>\n",
       "    </tr>\n",
       "  </tbody>\n",
       "</table>\n",
       "<p>307 rows × 2 columns</p>\n",
       "</div>"
      ],
      "text/plain": [
       "           a        b\n",
       "0    13.0470  14.7410\n",
       "1    13.4090  13.7630\n",
       "2    14.1960  15.8530\n",
       "3    14.9150  16.1740\n",
       "4    13.5770  14.0430\n",
       "5    13.9220  13.4060\n",
       "6    12.8220  14.2230\n",
       "7    15.6760  15.8920\n",
       "8    16.1630  16.2030\n",
       "9    12.6660  14.8990\n",
       "10   13.9850  12.9580\n",
       "11   14.0610  14.5490\n",
       "12   13.3900  15.5620\n",
       "13   13.3940  15.6270\n",
       "14   13.9790  13.2810\n",
       "15   14.1680  14.4660\n",
       "16   13.9620  14.7520\n",
       "17   14.4590  15.0700\n",
       "18   14.5850  15.8270\n",
       "19   12.0740  13.0670\n",
       "20   13.5490  15.5380\n",
       "21   13.9860  14.7880\n",
       "22   14.9700  16.5180\n",
       "23   14.2560  15.2940\n",
       "24   15.3340  16.1250\n",
       "25   15.6350  16.4910\n",
       "26   13.6210  15.4590\n",
       "27   14.8150  15.3400\n",
       "28   14.5930  14.6120\n",
       "29   14.4890  15.6410\n",
       "..       ...      ...\n",
       "277  14.3680  16.7580\n",
       "278  13.2630  14.0990\n",
       "279  11.9130  14.6130\n",
       "280  13.3700  15.1830\n",
       "281  15.9950  15.4530\n",
       "282  14.1580  13.7710\n",
       "283  14.9700  15.5920\n",
       "284  14.7510  15.4690\n",
       "285  13.3300  14.3470\n",
       "286  13.0500  14.6870\n",
       "287  13.7760  14.2360\n",
       "288  15.1740  15.5100\n",
       "289  14.2130  15.0830\n",
       "290  13.8210  15.6110\n",
       "291  14.1240  14.9550\n",
       "292  14.5480  14.8590\n",
       "293  14.0990  16.0310\n",
       "294  14.5770  14.2570\n",
       "295  14.5230  14.2300\n",
       "296  14.3000  15.2660\n",
       "297  14.5580  15.4870\n",
       "298  14.2250  15.8610\n",
       "299  12.0400  13.3450\n",
       "300  13.0790   9.3479\n",
       "301  21.7270   4.1262\n",
       "302  12.4770  14.4590\n",
       "303  19.5830  10.4120\n",
       "304  23.3400  16.2990\n",
       "305  18.2610  17.9780\n",
       "306   4.7526  24.3500\n",
       "\n",
       "[307 rows x 2 columns]"
      ]
     },
     "execution_count": 39,
     "metadata": {},
     "output_type": "execute_result"
    }
   ],
   "source": [
    "df"
   ]
  },
  {
   "cell_type": "code",
   "execution_count": 45,
   "metadata": {},
   "outputs": [
    {
     "data": {
      "text/html": [
       "<div>\n",
       "<style scoped>\n",
       "    .dataframe tbody tr th:only-of-type {\n",
       "        vertical-align: middle;\n",
       "    }\n",
       "\n",
       "    .dataframe tbody tr th {\n",
       "        vertical-align: top;\n",
       "    }\n",
       "\n",
       "    .dataframe thead th {\n",
       "        text-align: right;\n",
       "    }\n",
       "</style>\n",
       "<table border=\"1\" class=\"dataframe\">\n",
       "  <thead>\n",
       "    <tr style=\"text-align: right;\">\n",
       "      <th></th>\n",
       "      <th>a</th>\n",
       "      <th>b</th>\n",
       "    </tr>\n",
       "  </thead>\n",
       "  <tbody>\n",
       "    <tr>\n",
       "      <th>count</th>\n",
       "      <td>307.000000</td>\n",
       "      <td>307.000000</td>\n",
       "    </tr>\n",
       "    <tr>\n",
       "      <th>mean</th>\n",
       "      <td>14.112253</td>\n",
       "      <td>14.997675</td>\n",
       "    </tr>\n",
       "    <tr>\n",
       "      <th>std</th>\n",
       "      <td>1.355974</td>\n",
       "      <td>1.309696</td>\n",
       "    </tr>\n",
       "    <tr>\n",
       "      <th>min</th>\n",
       "      <td>4.752600</td>\n",
       "      <td>4.126200</td>\n",
       "    </tr>\n",
       "    <tr>\n",
       "      <th>25%</th>\n",
       "      <td>13.403500</td>\n",
       "      <td>14.362000</td>\n",
       "    </tr>\n",
       "    <tr>\n",
       "      <th>50%</th>\n",
       "      <td>14.060000</td>\n",
       "      <td>15.023000</td>\n",
       "    </tr>\n",
       "    <tr>\n",
       "      <th>75%</th>\n",
       "      <td>14.675500</td>\n",
       "      <td>15.654500</td>\n",
       "    </tr>\n",
       "    <tr>\n",
       "      <th>max</th>\n",
       "      <td>23.340000</td>\n",
       "      <td>24.350000</td>\n",
       "    </tr>\n",
       "  </tbody>\n",
       "</table>\n",
       "</div>"
      ],
      "text/plain": [
       "                a           b\n",
       "count  307.000000  307.000000\n",
       "mean    14.112253   14.997675\n",
       "std      1.355974    1.309696\n",
       "min      4.752600    4.126200\n",
       "25%     13.403500   14.362000\n",
       "50%     14.060000   15.023000\n",
       "75%     14.675500   15.654500\n",
       "max     23.340000   24.350000"
      ]
     },
     "execution_count": 45,
     "metadata": {},
     "output_type": "execute_result"
    }
   ],
   "source": [
    "df.describe()"
   ]
  },
  {
   "cell_type": "code",
   "execution_count": 46,
   "metadata": {},
   "outputs": [
    {
     "name": "stderr",
     "output_type": "stream",
     "text": [
      "C:\\Users\\anmol_gangwal\\Anaconda3\\lib\\site-packages\\ipykernel_launcher.py:1: FutureWarning: Method .as_matrix will be removed in a future version. Use .values instead.\n",
      "  \"\"\"Entry point for launching an IPython kernel.\n"
     ]
    }
   ],
   "source": [
    "a=df.as_matrix()"
   ]
  },
  {
   "cell_type": "code",
   "execution_count": 47,
   "metadata": {},
   "outputs": [
    {
     "data": {
      "text/plain": [
       "array([[13.047 , 14.741 ],\n",
       "       [13.409 , 13.763 ],\n",
       "       [14.196 , 15.853 ],\n",
       "       [14.915 , 16.174 ],\n",
       "       [13.577 , 14.043 ],\n",
       "       [13.922 , 13.406 ],\n",
       "       [12.822 , 14.223 ],\n",
       "       [15.676 , 15.892 ],\n",
       "       [16.163 , 16.203 ],\n",
       "       [12.666 , 14.899 ],\n",
       "       [13.985 , 12.958 ],\n",
       "       [14.061 , 14.549 ],\n",
       "       [13.39  , 15.562 ],\n",
       "       [13.394 , 15.627 ],\n",
       "       [13.979 , 13.281 ],\n",
       "       [14.168 , 14.466 ],\n",
       "       [13.962 , 14.752 ],\n",
       "       [14.459 , 15.07  ],\n",
       "       [14.585 , 15.827 ],\n",
       "       [12.074 , 13.067 ],\n",
       "       [13.549 , 15.538 ],\n",
       "       [13.986 , 14.788 ],\n",
       "       [14.97  , 16.518 ],\n",
       "       [14.256 , 15.294 ],\n",
       "       [15.334 , 16.125 ],\n",
       "       [15.635 , 16.491 ],\n",
       "       [13.621 , 15.459 ],\n",
       "       [14.815 , 15.34  ],\n",
       "       [14.593 , 14.612 ],\n",
       "       [14.489 , 15.641 ],\n",
       "       [15.527 , 14.636 ],\n",
       "       [13.975 , 14.765 ],\n",
       "       [12.954 , 14.823 ],\n",
       "       [12.888 , 15.076 ],\n",
       "       [16.022 , 16.257 ],\n",
       "       [14.926 , 16.297 ],\n",
       "       [12.466 , 14.183 ],\n",
       "       [14.085 , 14.442 ],\n",
       "       [14.537 , 14.242 ],\n",
       "       [14.223 , 15.424 ],\n",
       "       [14.519 , 13.999 ],\n",
       "       [13.12  , 14.661 ],\n",
       "       [14.511 , 15.305 ],\n",
       "       [14.183 , 15.394 ],\n",
       "       [14.717 , 15.734 ],\n",
       "       [13.835 , 16.171 ],\n",
       "       [16.001 , 14.692 ],\n",
       "       [14.127 , 15.915 ],\n",
       "       [13.846 , 14.341 ],\n",
       "       [15.414 , 16.242 ],\n",
       "       [13.253 , 15.009 ],\n",
       "       [13.668 , 14.359 ],\n",
       "       [13.775 , 14.738 ],\n",
       "       [14.126 , 14.93  ],\n",
       "       [14.547 , 15.633 ],\n",
       "       [14.153 , 14.536 ],\n",
       "       [14.126 , 15.345 ],\n",
       "       [14.263 , 14.986 ],\n",
       "       [14.773 , 15.253 ],\n",
       "       [14.21  , 16.146 ],\n",
       "       [13.261 , 15.48  ],\n",
       "       [14.253 , 15.031 ],\n",
       "       [12.921 , 13.193 ],\n",
       "       [13.852 , 13.332 ],\n",
       "       [13.969 , 13.198 ],\n",
       "       [13.252 , 15.368 ],\n",
       "       [13.704 , 13.214 ],\n",
       "       [14.509 , 15.461 ],\n",
       "       [15.69  , 16.482 ],\n",
       "       [12.956 , 12.437 ],\n",
       "       [13.593 , 14.842 ],\n",
       "       [15.129 , 17.15  ],\n",
       "       [14.267 , 15.676 ],\n",
       "       [15.661 , 14.811 ],\n",
       "       [14.34  , 15.492 ],\n",
       "       [14.276 , 14.706 ],\n",
       "       [14.86  , 15.59  ],\n",
       "       [14.104 , 15.181 ],\n",
       "       [15.988 , 15.621 ],\n",
       "       [13.475 , 15.593 ],\n",
       "       [13.776 , 14.992 ],\n",
       "       [12.828 , 15.671 ],\n",
       "       [13.672 , 15.12  ],\n",
       "       [15.387 , 15.569 ],\n",
       "       [15.543 , 15.515 ],\n",
       "       [13.853 , 15.607 ],\n",
       "       [13.625 , 14.452 ],\n",
       "       [15.016 , 14.917 ],\n",
       "       [13.836 , 15.249 ],\n",
       "       [14.227 , 14.348 ],\n",
       "       [13.237 , 14.611 ],\n",
       "       [13.385 , 14.733 ],\n",
       "       [13.871 , 14.974 ],\n",
       "       [12.394 , 14.644 ],\n",
       "       [14.322 , 14.529 ],\n",
       "       [15.83  , 15.716 ],\n",
       "       [15.802 , 16.018 ],\n",
       "       [14.698 , 14.112 ],\n",
       "       [14.706 , 16.46  ],\n",
       "       [13.592 , 14.92  ],\n",
       "       [12.3   , 14.771 ],\n",
       "       [13.399 , 16.119 ],\n",
       "       [15.131 , 15.9   ],\n",
       "       [15.386 , 15.715 ],\n",
       "       [15.455 , 15.44  ],\n",
       "       [13.75  , 15.268 ],\n",
       "       [15.699 , 16.056 ],\n",
       "       [14.806 , 14.333 ],\n",
       "       [15.172 , 16.706 ],\n",
       "       [11.249 , 15.133 ],\n",
       "       [13.888 , 14.485 ],\n",
       "       [15.326 , 16.585 ],\n",
       "       [12.975 , 15.161 ],\n",
       "       [14.074 , 17.22  ],\n",
       "       [14.182 , 17.834 ],\n",
       "       [12.24  , 14.729 ],\n",
       "       [14.826 , 15.945 ],\n",
       "       [13.098 , 16.23  ],\n",
       "       [13.858 , 15.035 ],\n",
       "       [15.525 , 16.787 ],\n",
       "       [15.315 , 14.568 ],\n",
       "       [14.03  , 15.663 ],\n",
       "       [14.423 , 14.941 ],\n",
       "       [13.636 , 14.964 ],\n",
       "       [14.535 , 13.356 ],\n",
       "       [14.616 , 14.152 ],\n",
       "       [13.081 , 14.028 ],\n",
       "       [14.939 , 14.549 ],\n",
       "       [16.027 , 15.71  ],\n",
       "       [14.319 , 15.118 ],\n",
       "       [14.862 , 14.285 ],\n",
       "       [14.014 , 16.78  ],\n",
       "       [13.408 , 14.6   ],\n",
       "       [13.08  , 14.194 ],\n",
       "       [12.688 , 13.811 ],\n",
       "       [14.192 , 15.365 ],\n",
       "       [14.866 , 14.471 ],\n",
       "       [13.394 , 14.344 ],\n",
       "       [13.587 , 14.391 ],\n",
       "       [13.102 , 14.376 ],\n",
       "       [14.542 , 16.372 ],\n",
       "       [14.256 , 15.042 ],\n",
       "       [16.188 , 16.361 ],\n",
       "       [13.633 , 13.629 ],\n",
       "       [14.653 , 14.976 ],\n",
       "       [12.619 , 16.772 ],\n",
       "       [13.034 , 14.257 ],\n",
       "       [10.859 , 14.479 ],\n",
       "       [12.935 , 14.607 ],\n",
       "       [13.992 , 14.962 ],\n",
       "       [12.572 , 15.197 ],\n",
       "       [15.683 , 16.221 ],\n",
       "       [13.213 , 14.352 ],\n",
       "       [13.99  , 14.524 ],\n",
       "       [13.466 , 13.658 ],\n",
       "       [13.132 , 15.799 ],\n",
       "       [14.354 , 15.023 ],\n",
       "       [13.553 , 13.732 ],\n",
       "       [12.986 , 14.81  ],\n",
       "       [14.373 , 14.951 ],\n",
       "       [13.589 , 15.198 ],\n",
       "       [12.26  , 15.614 ],\n",
       "       [13.666 , 16.445 ],\n",
       "       [14.346 , 15.449 ],\n",
       "       [14.607 , 15.777 ],\n",
       "       [14.154 , 16.574 ],\n",
       "       [14.049 , 14.391 ],\n",
       "       [14.069 , 14.624 ],\n",
       "       [15.889 , 16.337 ],\n",
       "       [13.976 , 15.842 ],\n",
       "       [10.882 , 13.462 ],\n",
       "       [13.909 , 14.977 ],\n",
       "       [12.368 , 15.142 ],\n",
       "       [15.168 , 15.519 ],\n",
       "       [15.338 , 14.233 ],\n",
       "       [13.551 , 15.73  ],\n",
       "       [13.579 , 15.473 ],\n",
       "       [14.245 , 15.085 ],\n",
       "       [15.331 , 15.711 ],\n",
       "       [15.917 , 15.157 ],\n",
       "       [13.854 , 15.321 ],\n",
       "       [14.087 , 14.307 ],\n",
       "       [12.636 , 15.651 ],\n",
       "       [14.363 , 13.872 ],\n",
       "       [14.501 , 14.618 ],\n",
       "       [13.97  , 16.173 ],\n",
       "       [15.131 , 15.289 ],\n",
       "       [15.153 , 14.014 ],\n",
       "       [13.31  , 14.391 ],\n",
       "       [14.257 , 14.297 ],\n",
       "       [13.716 , 13.527 ],\n",
       "       [15.701 , 15.996 ],\n",
       "       [13.389 , 14.365 ],\n",
       "       [14.141 , 13.974 ],\n",
       "       [14.845 , 14.017 ],\n",
       "       [12.705 , 14.273 ],\n",
       "       [14.954 , 14.732 ],\n",
       "       [14.281 , 14.613 ],\n",
       "       [13.068 , 14.833 ],\n",
       "       [13.603 , 12.203 ],\n",
       "       [12.688 , 15.811 ],\n",
       "       [13.883 , 14.118 ],\n",
       "       [14.016 , 14.335 ],\n",
       "       [15.366 , 15.826 ],\n",
       "       [13.578 , 14.88  ],\n",
       "       [13.392 , 14.345 ],\n",
       "       [13.694 , 15.922 ],\n",
       "       [12.879 , 13.202 ],\n",
       "       [13.699 , 15.418 ],\n",
       "       [14.016 , 15.822 ],\n",
       "       [14.59  , 16.381 ],\n",
       "       [15.008 , 15.51  ],\n",
       "       [14.06  , 13.758 ],\n",
       "       [14.461 , 13.344 ],\n",
       "       [14.645 , 15.039 ],\n",
       "       [13.855 , 15.866 ],\n",
       "       [14.281 , 14.023 ],\n",
       "       [14.933 , 14.326 ],\n",
       "       [13.769 , 16.513 ],\n",
       "       [13.444 , 15.079 ],\n",
       "       [14.032 , 14.41  ],\n",
       "       [13.819 , 15.587 ],\n",
       "       [16.507 , 15.22  ],\n",
       "       [12.204 , 14.321 ],\n",
       "       [14.882 , 16.362 ],\n",
       "       [15.16  , 15.15  ],\n",
       "       [11.788 , 14.55  ],\n",
       "       [12.884 , 14.573 ],\n",
       "       [13.62  , 16.424 ],\n",
       "       [14.53  , 15.447 ],\n",
       "       [12.646 , 15.108 ],\n",
       "       [15.548 , 16.432 ],\n",
       "       [14.401 , 15.213 ],\n",
       "       [15.211 , 14.935 ],\n",
       "       [15.062 , 15.117 ],\n",
       "       [14.862 , 14.702 ],\n",
       "       [15.405 , 15.345 ],\n",
       "       [13.794 , 14.687 ],\n",
       "       [14.634 , 16.301 ],\n",
       "       [12.457 , 15.546 ],\n",
       "       [13.998 , 16.736 ],\n",
       "       [12.933 , 12.624 ],\n",
       "       [13.703 , 14.715 ],\n",
       "       [13.124 , 15.448 ],\n",
       "       [13.817 , 14.092 ],\n",
       "       [13.025 , 14.251 ],\n",
       "       [14.534 , 15.766 ],\n",
       "       [13.252 , 16.323 ],\n",
       "       [13.237 , 15.337 ],\n",
       "       [12.13  , 12.667 ],\n",
       "       [14.381 , 16.031 ],\n",
       "       [15.982 , 15.524 ],\n",
       "       [13.751 , 13.643 ],\n",
       "       [13.357 , 13.424 ],\n",
       "       [13.086 , 14.868 ],\n",
       "       [13.612 , 14.868 ],\n",
       "       [15.178 , 14.154 ],\n",
       "       [14.155 , 15.287 ],\n",
       "       [13.225 , 13.96  ],\n",
       "       [13.942 , 14.76  ],\n",
       "       [15.391 , 15.714 ],\n",
       "       [13.176 , 13.674 ],\n",
       "       [13.387 , 14.665 ],\n",
       "       [15.159 , 14.782 ],\n",
       "       [14.556 , 14.049 ],\n",
       "       [14.627 , 14.296 ],\n",
       "       [13.286 , 15.658 ],\n",
       "       [13.815 , 14.172 ],\n",
       "       [14.311 , 16.254 ],\n",
       "       [13.536 , 15.77  ],\n",
       "       [14.801 , 13.818 ],\n",
       "       [13.773 , 14.65  ],\n",
       "       [13.765 , 15.023 ],\n",
       "       [14.053 , 13.939 ],\n",
       "       [15.309 , 16.042 ],\n",
       "       [13.155 , 16.921 ],\n",
       "       [12.699 , 13.999 ],\n",
       "       [14.368 , 16.758 ],\n",
       "       [13.263 , 14.099 ],\n",
       "       [11.913 , 14.613 ],\n",
       "       [13.37  , 15.183 ],\n",
       "       [15.995 , 15.453 ],\n",
       "       [14.158 , 13.771 ],\n",
       "       [14.97  , 15.592 ],\n",
       "       [14.751 , 15.469 ],\n",
       "       [13.33  , 14.347 ],\n",
       "       [13.05  , 14.687 ],\n",
       "       [13.776 , 14.236 ],\n",
       "       [15.174 , 15.51  ],\n",
       "       [14.213 , 15.083 ],\n",
       "       [13.821 , 15.611 ],\n",
       "       [14.124 , 14.955 ],\n",
       "       [14.548 , 14.859 ],\n",
       "       [14.099 , 16.031 ],\n",
       "       [14.577 , 14.257 ],\n",
       "       [14.523 , 14.23  ],\n",
       "       [14.3   , 15.266 ],\n",
       "       [14.558 , 15.487 ],\n",
       "       [14.225 , 15.861 ],\n",
       "       [12.04  , 13.345 ],\n",
       "       [13.079 ,  9.3479],\n",
       "       [21.727 ,  4.1262],\n",
       "       [12.477 , 14.459 ],\n",
       "       [19.583 , 10.412 ],\n",
       "       [23.34  , 16.299 ],\n",
       "       [18.261 , 17.978 ],\n",
       "       [ 4.7526, 24.35  ]])"
      ]
     },
     "execution_count": 47,
     "metadata": {},
     "output_type": "execute_result"
    }
   ],
   "source": [
    "a"
   ]
  },
  {
   "cell_type": "code",
   "execution_count": 49,
   "metadata": {},
   "outputs": [],
   "source": [
    "b=a[:,0]"
   ]
  },
  {
   "cell_type": "code",
   "execution_count": 2,
   "metadata": {},
   "outputs": [
    {
     "ename": "NameError",
     "evalue": "name 'df' is not defined",
     "output_type": "error",
     "traceback": [
      "\u001b[0;31m---------------------------------------------------------------------------\u001b[0m",
      "\u001b[0;31mNameError\u001b[0m                                 Traceback (most recent call last)",
      "\u001b[0;32m<ipython-input-2-e04e4693d28a>\u001b[0m in \u001b[0;36m<module>\u001b[0;34m\u001b[0m\n\u001b[0;32m----> 1\u001b[0;31m \u001b[0ma\u001b[0m\u001b[0;34m=\u001b[0m\u001b[0mdf\u001b[0m\u001b[0;34m[\u001b[0m\u001b[0;34m[\u001b[0m\u001b[0;34m'a'\u001b[0m\u001b[0;34m]\u001b[0m\u001b[0;34m]\u001b[0m\u001b[0;34m\u001b[0m\u001b[0;34m\u001b[0m\u001b[0m\n\u001b[0m",
      "\u001b[0;31mNameError\u001b[0m: name 'df' is not defined"
     ]
    }
   ],
   "source": [
    "a=df[['a']]"
   ]
  },
  {
   "cell_type": "code",
   "execution_count": 62,
   "metadata": {},
   "outputs": [],
   "source": [
    "a=df.iloc[:,0]"
   ]
  },
  {
   "cell_type": "code",
   "execution_count": 63,
   "metadata": {},
   "outputs": [
    {
     "data": {
      "text/plain": [
       "0      13.0470\n",
       "1      13.4090\n",
       "2      14.1960\n",
       "3      14.9150\n",
       "4      13.5770\n",
       "5      13.9220\n",
       "6      12.8220\n",
       "7      15.6760\n",
       "8      16.1630\n",
       "9      12.6660\n",
       "10     13.9850\n",
       "11     14.0610\n",
       "12     13.3900\n",
       "13     13.3940\n",
       "14     13.9790\n",
       "15     14.1680\n",
       "16     13.9620\n",
       "17     14.4590\n",
       "18     14.5850\n",
       "19     12.0740\n",
       "20     13.5490\n",
       "21     13.9860\n",
       "22     14.9700\n",
       "23     14.2560\n",
       "24     15.3340\n",
       "25     15.6350\n",
       "26     13.6210\n",
       "27     14.8150\n",
       "28     14.5930\n",
       "29     14.4890\n",
       "        ...   \n",
       "277    14.3680\n",
       "278    13.2630\n",
       "279    11.9130\n",
       "280    13.3700\n",
       "281    15.9950\n",
       "282    14.1580\n",
       "283    14.9700\n",
       "284    14.7510\n",
       "285    13.3300\n",
       "286    13.0500\n",
       "287    13.7760\n",
       "288    15.1740\n",
       "289    14.2130\n",
       "290    13.8210\n",
       "291    14.1240\n",
       "292    14.5480\n",
       "293    14.0990\n",
       "294    14.5770\n",
       "295    14.5230\n",
       "296    14.3000\n",
       "297    14.5580\n",
       "298    14.2250\n",
       "299    12.0400\n",
       "300    13.0790\n",
       "301    21.7270\n",
       "302    12.4770\n",
       "303    19.5830\n",
       "304    23.3400\n",
       "305    18.2610\n",
       "306     4.7526\n",
       "Name: a, Length: 307, dtype: float64"
      ]
     },
     "execution_count": 63,
     "metadata": {},
     "output_type": "execute_result"
    }
   ],
   "source": [
    "a"
   ]
  },
  {
   "cell_type": "code",
   "execution_count": null,
   "metadata": {},
   "outputs": [],
   "source": []
  }
 ],
 "metadata": {
  "kernelspec": {
   "display_name": "Python 3",
   "language": "python",
   "name": "python3"
  },
  "language_info": {
   "codemirror_mode": {
    "name": "ipython",
    "version": 3
   },
   "file_extension": ".py",
   "mimetype": "text/x-python",
   "name": "python",
   "nbconvert_exporter": "python",
   "pygments_lexer": "ipython3",
   "version": "3.6.7"
  }
 },
 "nbformat": 4,
 "nbformat_minor": 2
}
