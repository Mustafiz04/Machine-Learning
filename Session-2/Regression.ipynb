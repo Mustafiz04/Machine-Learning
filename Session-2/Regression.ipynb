{
 "cells": [
  {
   "cell_type": "markdown",
   "metadata": {},
   "source": [
    "# Introduction\n",
    "\n",
    "## Supervised Learning\n",
    "\n",
    "Supervised learning is where you have input variables (X) and an output variable (y) and you use an algorithm to learn the mapping function from the input to the output.\n",
    "\n",
    "                                                    y = f(X)\n",
    "                                                    \n",
    "### Regression : \n",
    "A supervised learning problem where we try to map input variable (X) to continuous output (y). For example : Trying to predict the house price on the basis of number of rooms, built area etc.\n",
    "\n",
    "### Classification :\n",
    "A supervised learning problem where we try to map input variable (X) to discrete output (y). For example : Marking mails or SMSs as spam/not-spam on the basis of its content, origin etc. \n",
    "\n",
    "## Unsupervised Learning\n",
    "\n",
    "Unsupervised learning is where you only have input data (X) and no corresponding output variables. The goal for unsupervised learning is to model the underlying structure or distribution in the data in order to learn more about the data."
   ]
  },
  {
   "cell_type": "markdown",
   "metadata": {},
   "source": [
    "# Linear Regression\n",
    "\n",
    "<img src=\"media/img1.png\" alt=\"Regression\" style=\"width : 500px;\"/>\n",
    "\n",
    "We will mainly cover three topics : \n",
    "1. Hypothesis Function - Defining our function f(x)\n",
    "2. Cost Function - Checking the performance of out model/function.\n",
    "3. Optimization (Gradient Descent) - Improving the performance of our model/function"
   ]
  },
  {
   "cell_type": "markdown",
   "metadata": {},
   "source": [
    "## Hypothesis Function\n",
    "\n",
    "The hypothesis function for univariate linear regression problem is :\n",
    "$$\\widehat{y} = w_{0} + w_{1}x$$\n",
    "\n",
    "$\\widehat{y}$ = Output predicted by our model.\n",
    "\n",
    "$w_{0} , w_{1}$ = Parameters of our model, also known as weights.\n",
    "\n",
    "$x$ = The input feature\n",
    "\n"
   ]
  },
  {
   "cell_type": "markdown",
   "metadata": {},
   "source": [
    "The hypothesis function for multivariate linear regression problem is :\n",
    "\n",
    "$$\\widehat{y} = w_{0} + w_{1}x_{1} + w_{2}x_{2} + .... + w_{m}x_{m}$$\n",
    "\n",
    "$\\widehat{y}$ = Output predicted by our model.\n",
    "\n",
    "$w_{0} , w_{1} , w_{2} , ... , w_{m}$ = Parameters of our model, also known as weights (W).\n",
    "\n",
    "$x_{1} , x_{2} , ... , x_{m}$ = Values of our input feature vector (X).\n",
    "\n",
    "$m$ = Number of features\n",
    "\n",
    "\n",
    "Any set of $W = [w_{0} , w_{1} , w_{2} , ... , w_{m}]$ uniquely identifies a model."
   ]
  },
  {
   "cell_type": "markdown",
   "metadata": {},
   "source": [
    "For example, in a univariate problem, for a particular value of $w_{0}, w_{1}$, we can have this plot : \n",
    "\n",
    "<img src=\"media/img4.png\" alt=\"Regression\" style=\"width : 500px;\"/>\n"
   ]
  },
  {
   "cell_type": "markdown",
   "metadata": {},
   "source": [
    "## Cost Function\n",
    "\n",
    "It is used to check how good or bad our current model is performing.\n",
    "\n",
    "Cost function of our model/function parameterized by $W$,\n",
    "$$ J(W) = \\frac{1}{n} \\sum_{i=1}^{n} (\\widehat{y_{i}} - y_{i})^{2}$$\n",
    "\n",
    "$W = [w_{0},w_{1},w_{2},...w_{m}]$\n",
    "\n",
    "$\\widehat{y_{i}}$ = Output predicted by our model for $i^{th}$ input\n",
    "\n",
    "$y_{i}$ = Actual output for $i^{th}$ input\n",
    "\n",
    "$n$ = Number of data points\n",
    "\n",
    "#### So our ultimate objective is to minimize the cost."
   ]
  },
  {
   "cell_type": "markdown",
   "metadata": {},
   "source": [
    "## Optimization (Gradient Descent)\n",
    "\n",
    "If our model is not performing good we need to train it. Training a model means changing/tuning the value of W (weight/parameters of our model), so that the cost decreases. \n",
    "\n",
    "Let us assusme that,\n",
    "$$\\widehat{y} = w_{1}x_{1}$$\n",
    "\n",
    "Hence our cost function becomes : \n",
    "$$ J(w_{1}) = \\frac{1}{n} \\sum_{i=1}^{n} (w_{1}(x_{1}^{(i)}) - y_{i})^{2}$$\n",
    "\n",
    "Plotting $J(w_{1})$ against $w_{1}$:\n",
    "\n",
    "<img src=\"media/img5.png\" alt=\"Regression\" style=\"width : 500px;\"/>\n",
    "\n",
    "In two dimension, the plot would look something like this:\n",
    "\n",
    "<img src=\"media/img6.jpg\" alt=\"Regression\" style=\"width : 500px;\"/>\n",
    "\n",
    "It would look scary in higher dimensions, so lets leave that for now!\n",
    "\n",
    "\n",
    "Lets not forget that our ultimate goal is to minimize the cost $J(W)$. To minimize $J(W)$ we'll perform gradient decent steps iteratively. \n",
    "\n",
    "One step of gradient descent is : \n",
    "\n",
    "For all weights $w_{j}$ :\n",
    "\n",
    "$$w_{j} = w_{j} - \\alpha \\frac{\\partial}{\\partial w_{j}} J(W)$$\n",
    "\n",
    "$\\alpha$ = Learning rate\n",
    "\n",
    "$\\frac{\\partial}{\\partial w_{j}} J(W)$ = Partial derivative of cost function $J(W)$ w.r.t. $w_{i}$\n",
    "\n",
    "$$\\frac{\\partial}{\\partial w_{j}} J(W) = \\frac{2}{n} \\sum_{i=1}^{n}(\\widehat{y_{i}} - y_{i})x_{j}^{(i)}$$\n",
    "\n",
    "This gradient descent step is done repetitively untill the learning is stopped.\n",
    "\n",
    "<img src=\"media/img7.png\" alt=\"Regression\" style=\"width : 500px; height : 400px;\"/>\n",
    "\n",
    "<img src=\"media/img8.gif\" alt=\"Regression\" style=\"width : 500px;\"/>"
   ]
  },
  {
   "cell_type": "code",
   "execution_count": 40,
   "metadata": {},
   "outputs": [],
   "source": [
    "import numpy as np\n",
    "import pandas as pd\n",
    "import matplotlib.pyplot as plt\n",
    "from sklearn.linear_model import LinearRegression\n",
    "from sklearn.metrics import mean_squared_error\n",
    "from sklearn.preprocessing import StandardScaler\n",
    "\n",
    "%matplotlib inline"
   ]
  },
  {
   "cell_type": "code",
   "execution_count": 2,
   "metadata": {},
   "outputs": [
    {
     "data": {
      "image/png": "[encoded data removed]",
      "text/plain": [
       "<Figure size 432x288 with 1 Axes>"
      ]
     },
     "metadata": {
      "needs_background": "light"
     },
     "output_type": "display_data"
    }
   ],
   "source": [
    "X = np.arange(20)\n",
    "y = X\n",
    "plt.scatter(X,y)\n",
    "plt.xlabel(\"X\")\n",
    "plt.ylabel(\"y\")\n",
    "plt.show()"
   ]
  },
  {
   "cell_type": "code",
   "execution_count": 3,
   "metadata": {},
   "outputs": [
    {
     "name": "stdout",
     "output_type": "stream",
     "text": [
      "Mean squared error is 0.0\n",
      "Parameters are [1.]\n"
     ]
    },
    {
     "data": {
      "image/png": "[encoded data removed]",
      "text/plain": [
       "<Figure size 432x288 with 1 Axes>"
      ]
     },
     "metadata": {
      "needs_background": "light"
     },
     "output_type": "display_data"
    }
   ],
   "source": [
    "model1 = LinearRegression()\n",
    "model1.fit(X.reshape(-1,1),y)\n",
    "y_pred = model1.predict(X.reshape(-1,1))\n",
    "mse = mean_squared_error(y_pred,y)\n",
    "print(\"Mean squared error is {}\".format(mse))\n",
    "print(\"Parameters are {}\".format(model1.coef_))\n",
    "plt.scatter(X,y)\n",
    "plt.plot(X,y_pred,color='r')\n",
    "plt.xlabel(\"X\")\n",
    "plt.ylabel(\"y\")\n",
    "plt.show()"
   ]
  },
  {
   "cell_type": "code",
   "execution_count": 4,
   "metadata": {},
   "outputs": [
    {
     "data": {
      "image/png": "[encoded data removed]",
      "text/plain": [
       "<Figure size 432x288 with 1 Axes>"
      ]
     },
     "metadata": {
      "needs_background": "light"
     },
     "output_type": "display_data"
    },
    {
     "name": "stdout",
     "output_type": "stream",
     "text": [
      "Mean squared error is 2.208810534618833e-30\n",
      "Parameters are [3.]\n"
     ]
    },
    {
     "data": {
      "image/png": "[encoded data removed]",
      "text/plain": [
       "<Figure size 432x288 with 1 Axes>"
      ]
     },
     "metadata": {
      "needs_background": "light"
     },
     "output_type": "display_data"
    }
   ],
   "source": [
    "X = np.arange(20)\n",
    "y = 3 * X + 4\n",
    "plt.scatter(X,y)\n",
    "plt.xlabel(\"X\")\n",
    "plt.ylabel(\"y\")\n",
    "plt.show()\n",
    "\n",
    "model7 = LinearRegression(fit_intercept=True)\n",
    "model7.fit(X.reshape(-1,1),y)\n",
    "y_pred = model7.predict(X.reshape(-1,1))\n",
    "mse = mean_squared_error(y_pred,y)\n",
    "print(\"Mean squared error is {}\".format(mse))\n",
    "print(\"Parameters are {}\".format(model7.coef_))\n",
    "plt.scatter(X,y)\n",
    "plt.plot(X,y_pred,color='r')\n",
    "plt.xlabel(\"X\")\n",
    "plt.ylabel(\"y\")\n",
    "plt.show()"
   ]
  },
  {
   "cell_type": "code",
   "execution_count": 5,
   "metadata": {},
   "outputs": [
    {
     "data": {
      "image/png": "[encoded data removed]",
      "text/plain": [
       "<Figure size 432x288 with 1 Axes>"
      ]
     },
     "metadata": {
      "needs_background": "light"
     },
     "output_type": "display_data"
    },
    {
     "name": "stdout",
     "output_type": "stream",
     "text": [
      "Mean squared error is 0.0\n",
      "Parameters are [4.]\n"
     ]
    },
    {
     "data": {
      "image/png": "[encoded data removed]",
      "text/plain": [
       "<Figure size 432x288 with 1 Axes>"
      ]
     },
     "metadata": {
      "needs_background": "light"
     },
     "output_type": "display_data"
    }
   ],
   "source": [
    "X = np.arange(20)\n",
    "y = 4*(X**2)\n",
    "plt.scatter(X,y)\n",
    "plt.xlabel(\"X\")\n",
    "plt.ylabel(\"y\")\n",
    "plt.show()\n",
    "model2 = LinearRegression()\n",
    "model2.fit((X**2).reshape(-1,1),y)\n",
    "y_pred = model2.predict((X**2).reshape(-1,1))\n",
    "mse = mean_squared_error(y_pred,y)\n",
    "print(\"Mean squared error is {}\".format(mse))\n",
    "print(\"Parameters are {}\".format(model2.coef_))\n",
    "plt.scatter(X,y)\n",
    "plt.plot(X,y_pred,color='r')\n",
    "plt.xlabel(\"X\")\n",
    "plt.ylabel(\"y\")\n",
    "plt.show()"
   ]
  },
  {
   "cell_type": "code",
   "execution_count": 6,
   "metadata": {},
   "outputs": [
    {
     "data": {
      "text/html": [
       "<div>\n",
       "<style scoped>\n",
       "    .dataframe tbody tr th:only-of-type {\n",
       "        vertical-align: middle;\n",
       "    }\n",
       "\n",
       "    .dataframe tbody tr th {\n",
       "        vertical-align: top;\n",
       "    }\n",
       "\n",
       "    .dataframe thead th {\n",
       "        text-align: right;\n",
       "    }\n",
       "</style>\n",
       "<table border=\"1\" class=\"dataframe\">\n",
       "  <thead>\n",
       "    <tr style=\"text-align: right;\">\n",
       "      <th></th>\n",
       "      <th>id</th>\n",
       "      <th>date</th>\n",
       "      <th>price</th>\n",
       "      <th>bedrooms</th>\n",
       "      <th>bathrooms</th>\n",
       "      <th>sqft_living</th>\n",
       "      <th>sqft_lot</th>\n",
       "      <th>floors</th>\n",
       "      <th>waterfront</th>\n",
       "      <th>view</th>\n",
       "      <th>...</th>\n",
       "      <th>grade</th>\n",
       "      <th>sqft_above</th>\n",
       "      <th>sqft_basement</th>\n",
       "      <th>yr_built</th>\n",
       "      <th>yr_renovated</th>\n",
       "      <th>zipcode</th>\n",
       "      <th>lat</th>\n",
       "      <th>long</th>\n",
       "      <th>sqft_living15</th>\n",
       "      <th>sqft_lot15</th>\n",
       "    </tr>\n",
       "  </thead>\n",
       "  <tbody>\n",
       "    <tr>\n",
       "      <th>0</th>\n",
       "      <td>7129300520</td>\n",
       "      <td>20141013T000000</td>\n",
       "      <td>221900.0</td>\n",
       "      <td>3</td>\n",
       "      <td>1.00</td>\n",
       "      <td>1180</td>\n",
       "      <td>5650</td>\n",
       "      <td>1.0</td>\n",
       "      <td>0</td>\n",
       "      <td>0</td>\n",
       "      <td>...</td>\n",
       "      <td>7</td>\n",
       "      <td>1180</td>\n",
       "      <td>0</td>\n",
       "      <td>1955</td>\n",
       "      <td>0</td>\n",
       "      <td>98178</td>\n",
       "      <td>47.5112</td>\n",
       "      <td>-122.257</td>\n",
       "      <td>1340</td>\n",
       "      <td>5650</td>\n",
       "    </tr>\n",
       "    <tr>\n",
       "      <th>1</th>\n",
       "      <td>6414100192</td>\n",
       "      <td>20141209T000000</td>\n",
       "      <td>538000.0</td>\n",
       "      <td>3</td>\n",
       "      <td>2.25</td>\n",
       "      <td>2570</td>\n",
       "      <td>7242</td>\n",
       "      <td>2.0</td>\n",
       "      <td>0</td>\n",
       "      <td>0</td>\n",
       "      <td>...</td>\n",
       "      <td>7</td>\n",
       "      <td>2170</td>\n",
       "      <td>400</td>\n",
       "      <td>1951</td>\n",
       "      <td>1991</td>\n",
       "      <td>98125</td>\n",
       "      <td>47.7210</td>\n",
       "      <td>-122.319</td>\n",
       "      <td>1690</td>\n",
       "      <td>7639</td>\n",
       "    </tr>\n",
       "    <tr>\n",
       "      <th>2</th>\n",
       "      <td>5631500400</td>\n",
       "      <td>20150225T000000</td>\n",
       "      <td>180000.0</td>\n",
       "      <td>2</td>\n",
       "      <td>1.00</td>\n",
       "      <td>770</td>\n",
       "      <td>10000</td>\n",
       "      <td>1.0</td>\n",
       "      <td>0</td>\n",
       "      <td>0</td>\n",
       "      <td>...</td>\n",
       "      <td>6</td>\n",
       "      <td>770</td>\n",
       "      <td>0</td>\n",
       "      <td>1933</td>\n",
       "      <td>0</td>\n",
       "      <td>98028</td>\n",
       "      <td>47.7379</td>\n",
       "      <td>-122.233</td>\n",
       "      <td>2720</td>\n",
       "      <td>8062</td>\n",
       "    </tr>\n",
       "    <tr>\n",
       "      <th>3</th>\n",
       "      <td>2487200875</td>\n",
       "      <td>20141209T000000</td>\n",
       "      <td>604000.0</td>\n",
       "      <td>4</td>\n",
       "      <td>3.00</td>\n",
       "      <td>1960</td>\n",
       "      <td>5000</td>\n",
       "      <td>1.0</td>\n",
       "      <td>0</td>\n",
       "      <td>0</td>\n",
       "      <td>...</td>\n",
       "      <td>7</td>\n",
       "      <td>1050</td>\n",
       "      <td>910</td>\n",
       "      <td>1965</td>\n",
       "      <td>0</td>\n",
       "      <td>98136</td>\n",
       "      <td>47.5208</td>\n",
       "      <td>-122.393</td>\n",
       "      <td>1360</td>\n",
       "      <td>5000</td>\n",
       "    </tr>\n",
       "    <tr>\n",
       "      <th>4</th>\n",
       "      <td>1954400510</td>\n",
       "      <td>20150218T000000</td>\n",
       "      <td>510000.0</td>\n",
       "      <td>3</td>\n",
       "      <td>2.00</td>\n",
       "      <td>1680</td>\n",
       "      <td>8080</td>\n",
       "      <td>1.0</td>\n",
       "      <td>0</td>\n",
       "      <td>0</td>\n",
       "      <td>...</td>\n",
       "      <td>8</td>\n",
       "      <td>1680</td>\n",
       "      <td>0</td>\n",
       "      <td>1987</td>\n",
       "      <td>0</td>\n",
       "      <td>98074</td>\n",
       "      <td>47.6168</td>\n",
       "      <td>-122.045</td>\n",
       "      <td>1800</td>\n",
       "      <td>7503</td>\n",
       "    </tr>\n",
       "  </tbody>\n",
       "</table>\n",
       "<p>5 rows × 21 columns</p>\n",
       "</div>"
      ],
      "text/plain": [
       "           id             date     price  bedrooms  bathrooms  sqft_living  \\\n",
       "0  7129300520  20141013T000000  221900.0         3       1.00         1180   \n",
       "1  6414100192  20141209T000000  538000.0         3       2.25         2570   \n",
       "2  5631500400  20150225T000000  180000.0         2       1.00          770   \n",
       "3  2487200875  20141209T000000  604000.0         4       3.00         1960   \n",
       "4  1954400510  20150218T000000  510000.0         3       2.00         1680   \n",
       "\n",
       "   sqft_lot  floors  waterfront  view     ...      grade  sqft_above  \\\n",
       "0      5650     1.0           0     0     ...          7        1180   \n",
       "1      7242     2.0           0     0     ...          7        2170   \n",
       "2     10000     1.0           0     0     ...          6         770   \n",
       "3      5000     1.0           0     0     ...          7        1050   \n",
       "4      8080     1.0           0     0     ...          8        1680   \n",
       "\n",
       "   sqft_basement  yr_built  yr_renovated  zipcode      lat     long  \\\n",
       "0              0      1955             0    98178  47.5112 -122.257   \n",
       "1            400      1951          1991    98125  47.7210 -122.319   \n",
       "2              0      1933             0    98028  47.7379 -122.233   \n",
       "3            910      1965             0    98136  47.5208 -122.393   \n",
       "4              0      1987             0    98074  47.6168 -122.045   \n",
       "\n",
       "   sqft_living15  sqft_lot15  \n",
       "0           1340        5650  \n",
       "1           1690        7639  \n",
       "2           2720        8062  \n",
       "3           1360        5000  \n",
       "4           1800        7503  \n",
       "\n",
       "[5 rows x 21 columns]"
      ]
     },
     "execution_count": 6,
     "metadata": {},
     "output_type": "execute_result"
    }
   ],
   "source": [
    "data = pd.read_csv('kc_house_data.csv')\n",
    "data.head()"
   ]
  },
  {
   "cell_type": "code",
   "execution_count": 7,
   "metadata": {},
   "outputs": [
    {
     "data": {
      "image/png": "[encoded data removed]",
      "text/plain": [
       "<Figure size 432x288 with 1 Axes>"
      ]
     },
     "metadata": {
      "needs_background": "light"
     },
     "output_type": "display_data"
    }
   ],
   "source": [
    "X = np.array(data['sqft_living'])\n",
    "y = np.array(data['price'])\n",
    "plt.scatter(X,y)\n",
    "plt.xlabel(\"Sqft Living\")\n",
    "plt.ylabel(\"Price\")\n",
    "plt.show()"
   ]
  },
  {
   "cell_type": "code",
   "execution_count": 8,
   "metadata": {},
   "outputs": [
    {
     "name": "stdout",
     "output_type": "stream",
     "text": [
      "Mean squared error is 68351286833.039825\n",
      "Parameters are [280.6235679]\n"
     ]
    },
    {
     "data": {
      "image/png": "[encoded data removed]",
      "text/plain": [
       "<Figure size 432x288 with 1 Axes>"
      ]
     },
     "metadata": {
      "needs_background": "light"
     },
     "output_type": "display_data"
    }
   ],
   "source": [
    "model3 = LinearRegression()\n",
    "model3.fit((X).reshape(-1,1),y)\n",
    "y_pred = model3.predict((X).reshape(-1,1))\n",
    "mse = mean_squared_error(y_pred,y)\n",
    "print(\"Mean squared error is {}\".format(mse))\n",
    "print(\"Parameters are {}\".format(model3.coef_))\n",
    "plt.scatter(X,y)\n",
    "plt.plot(X,y_pred,color='r')\n",
    "plt.xlabel(\"X\")\n",
    "plt.ylabel(\"y\")\n",
    "plt.show()"
   ]
  },
  {
   "cell_type": "code",
   "execution_count": 9,
   "metadata": {},
   "outputs": [],
   "source": [
    "data = data[ (data['sqft_living'] <= 11000) ]"
   ]
  },
  {
   "cell_type": "code",
   "execution_count": 10,
   "metadata": {},
   "outputs": [
    {
     "data": {
      "image/png": "[encoded data removed]",
      "text/plain": [
       "<Figure size 432x288 with 1 Axes>"
      ]
     },
     "metadata": {
      "needs_background": "light"
     },
     "output_type": "display_data"
    }
   ],
   "source": [
    "X = np.array(data['sqft_living'])\n",
    "y = np.array(data['price'])\n",
    "plt.scatter(X,y)\n",
    "plt.xlabel(\"Sqft Living\")\n",
    "plt.ylabel(\"Price\")\n",
    "plt.show()"
   ]
  },
  {
   "cell_type": "code",
   "execution_count": 11,
   "metadata": {},
   "outputs": [
    {
     "name": "stdout",
     "output_type": "stream",
     "text": [
      "Mean squared error is 67374501320.20935\n",
      "Parameters are [279.14702696]\n"
     ]
    },
    {
     "data": {
      "image/png": "[encoded data removed]",
      "text/plain": [
       "<Figure size 432x288 with 1 Axes>"
      ]
     },
     "metadata": {
      "needs_background": "light"
     },
     "output_type": "display_data"
    }
   ],
   "source": [
    "model4 = LinearRegression()\n",
    "model4.fit((X).reshape(-1,1),y)\n",
    "y_pred = model4.predict((X).reshape(-1,1))\n",
    "mse = mean_squared_error(y_pred,y)\n",
    "print(\"Mean squared error is {}\".format(mse))\n",
    "print(\"Parameters are {}\".format(model4.coef_))\n",
    "plt.scatter(X,y)\n",
    "plt.plot(X,y_pred,color='r')\n",
    "plt.xlabel(\"X\")\n",
    "plt.ylabel(\"y\")\n",
    "plt.show()"
   ]
  },
  {
   "cell_type": "code",
   "execution_count": 12,
   "metadata": {},
   "outputs": [
    {
     "data": {
      "image/png": "[encoded data removed]",
      "text/plain": [
       "<Figure size 432x288 with 1 Axes>"
      ]
     },
     "metadata": {
      "needs_background": "light"
     },
     "output_type": "display_data"
    },
    {
     "name": "stdout",
     "output_type": "stream",
     "text": [
      "Mean squared error is 61033945627.4508\n",
      "Parameters are [0.05150297]\n"
     ]
    },
    {
     "data": {
      "image/png": "[encoded data removed]",
      "text/plain": [
       "<Figure size 432x288 with 1 Axes>"
      ]
     },
     "metadata": {
      "needs_background": "light"
     },
     "output_type": "display_data"
    }
   ],
   "source": [
    "X = np.array(data['sqft_living'])\n",
    "y = np.array(data['price'])\n",
    "plt.scatter(X,y)\n",
    "plt.xlabel(\"Sqft Living\")\n",
    "plt.ylabel(\"Price\")\n",
    "plt.show()\n",
    "model5 = LinearRegression()\n",
    "model5.fit((X**2).reshape(-1,1),y)\n",
    "y_pred = model5.predict((X**2).reshape(-1,1))\n",
    "mse = mean_squared_error(y_pred,y)\n",
    "print(\"Mean squared error is {}\".format(mse))\n",
    "print(\"Parameters are {}\".format(model5.coef_))\n",
    "plt.scatter(X,y)\n",
    "plt.scatter(X,y_pred,color='r')\n",
    "plt.xlabel(\"X\")\n",
    "plt.ylabel(\"y\")\n",
    "plt.show()"
   ]
  },
  {
   "cell_type": "code",
   "execution_count": 13,
   "metadata": {},
   "outputs": [
    {
     "data": {
      "text/html": [
       "<div>\n",
       "<style scoped>\n",
       "    .dataframe tbody tr th:only-of-type {\n",
       "        vertical-align: middle;\n",
       "    }\n",
       "\n",
       "    .dataframe tbody tr th {\n",
       "        vertical-align: top;\n",
       "    }\n",
       "\n",
       "    .dataframe thead th {\n",
       "        text-align: right;\n",
       "    }\n",
       "</style>\n",
       "<table border=\"1\" class=\"dataframe\">\n",
       "  <thead>\n",
       "    <tr style=\"text-align: right;\">\n",
       "      <th></th>\n",
       "      <th>id</th>\n",
       "      <th>price</th>\n",
       "      <th>bedrooms</th>\n",
       "      <th>bathrooms</th>\n",
       "      <th>sqft_living</th>\n",
       "      <th>sqft_lot</th>\n",
       "      <th>floors</th>\n",
       "      <th>waterfront</th>\n",
       "      <th>view</th>\n",
       "      <th>condition</th>\n",
       "      <th>grade</th>\n",
       "      <th>sqft_above</th>\n",
       "      <th>sqft_basement</th>\n",
       "      <th>yr_built</th>\n",
       "      <th>yr_renovated</th>\n",
       "      <th>zipcode</th>\n",
       "      <th>lat</th>\n",
       "      <th>long</th>\n",
       "      <th>sqft_living15</th>\n",
       "      <th>sqft_lot15</th>\n",
       "    </tr>\n",
       "  </thead>\n",
       "  <tbody>\n",
       "    <tr>\n",
       "      <th>count</th>\n",
       "      <td>2.161100e+04</td>\n",
       "      <td>2.161100e+04</td>\n",
       "      <td>21611.000000</td>\n",
       "      <td>21611.000000</td>\n",
       "      <td>21611.000000</td>\n",
       "      <td>2.161100e+04</td>\n",
       "      <td>21611.000000</td>\n",
       "      <td>21611.000000</td>\n",
       "      <td>21611.000000</td>\n",
       "      <td>21611.000000</td>\n",
       "      <td>21611.000000</td>\n",
       "      <td>21611.000000</td>\n",
       "      <td>21611.000000</td>\n",
       "      <td>21611.000000</td>\n",
       "      <td>21611.000000</td>\n",
       "      <td>21611.000000</td>\n",
       "      <td>21611.000000</td>\n",
       "      <td>21611.000000</td>\n",
       "      <td>21611.000000</td>\n",
       "      <td>21611.000000</td>\n",
       "    </tr>\n",
       "    <tr>\n",
       "      <th>mean</th>\n",
       "      <td>4.580356e+09</td>\n",
       "      <td>5.396763e+05</td>\n",
       "      <td>3.370552</td>\n",
       "      <td>2.114213</td>\n",
       "      <td>2078.908102</td>\n",
       "      <td>1.509285e+04</td>\n",
       "      <td>1.494193</td>\n",
       "      <td>0.007542</td>\n",
       "      <td>0.234001</td>\n",
       "      <td>3.409421</td>\n",
       "      <td>7.656425</td>\n",
       "      <td>1787.724215</td>\n",
       "      <td>291.183888</td>\n",
       "      <td>1971.006663</td>\n",
       "      <td>84.318125</td>\n",
       "      <td>98077.939845</td>\n",
       "      <td>47.560044</td>\n",
       "      <td>-122.213902</td>\n",
       "      <td>1986.329601</td>\n",
       "      <td>12759.151913</td>\n",
       "    </tr>\n",
       "    <tr>\n",
       "      <th>std</th>\n",
       "      <td>2.876570e+09</td>\n",
       "      <td>3.637064e+05</td>\n",
       "      <td>0.929605</td>\n",
       "      <td>0.768115</td>\n",
       "      <td>912.651878</td>\n",
       "      <td>4.137447e+04</td>\n",
       "      <td>0.539873</td>\n",
       "      <td>0.086521</td>\n",
       "      <td>0.765694</td>\n",
       "      <td>0.650755</td>\n",
       "      <td>1.174579</td>\n",
       "      <td>825.215995</td>\n",
       "      <td>441.291767</td>\n",
       "      <td>29.371221</td>\n",
       "      <td>401.488852</td>\n",
       "      <td>53.506983</td>\n",
       "      <td>0.138567</td>\n",
       "      <td>0.140824</td>\n",
       "      <td>685.017270</td>\n",
       "      <td>27269.783781</td>\n",
       "    </tr>\n",
       "    <tr>\n",
       "      <th>min</th>\n",
       "      <td>1.000102e+06</td>\n",
       "      <td>7.500000e+04</td>\n",
       "      <td>0.000000</td>\n",
       "      <td>0.000000</td>\n",
       "      <td>290.000000</td>\n",
       "      <td>5.200000e+02</td>\n",
       "      <td>1.000000</td>\n",
       "      <td>0.000000</td>\n",
       "      <td>0.000000</td>\n",
       "      <td>1.000000</td>\n",
       "      <td>1.000000</td>\n",
       "      <td>290.000000</td>\n",
       "      <td>0.000000</td>\n",
       "      <td>1900.000000</td>\n",
       "      <td>0.000000</td>\n",
       "      <td>98001.000000</td>\n",
       "      <td>47.155900</td>\n",
       "      <td>-122.519000</td>\n",
       "      <td>399.000000</td>\n",
       "      <td>651.000000</td>\n",
       "    </tr>\n",
       "    <tr>\n",
       "      <th>25%</th>\n",
       "      <td>2.123049e+09</td>\n",
       "      <td>3.217250e+05</td>\n",
       "      <td>3.000000</td>\n",
       "      <td>1.750000</td>\n",
       "      <td>1426.000000</td>\n",
       "      <td>5.040000e+03</td>\n",
       "      <td>1.000000</td>\n",
       "      <td>0.000000</td>\n",
       "      <td>0.000000</td>\n",
       "      <td>3.000000</td>\n",
       "      <td>7.000000</td>\n",
       "      <td>1190.000000</td>\n",
       "      <td>0.000000</td>\n",
       "      <td>1951.000000</td>\n",
       "      <td>0.000000</td>\n",
       "      <td>98033.000000</td>\n",
       "      <td>47.470950</td>\n",
       "      <td>-122.328000</td>\n",
       "      <td>1490.000000</td>\n",
       "      <td>5100.000000</td>\n",
       "    </tr>\n",
       "    <tr>\n",
       "      <th>50%</th>\n",
       "      <td>3.904930e+09</td>\n",
       "      <td>4.500000e+05</td>\n",
       "      <td>3.000000</td>\n",
       "      <td>2.250000</td>\n",
       "      <td>1910.000000</td>\n",
       "      <td>7.617000e+03</td>\n",
       "      <td>1.500000</td>\n",
       "      <td>0.000000</td>\n",
       "      <td>0.000000</td>\n",
       "      <td>3.000000</td>\n",
       "      <td>7.000000</td>\n",
       "      <td>1560.000000</td>\n",
       "      <td>0.000000</td>\n",
       "      <td>1975.000000</td>\n",
       "      <td>0.000000</td>\n",
       "      <td>98065.000000</td>\n",
       "      <td>47.571800</td>\n",
       "      <td>-122.230000</td>\n",
       "      <td>1840.000000</td>\n",
       "      <td>7620.000000</td>\n",
       "    </tr>\n",
       "    <tr>\n",
       "      <th>75%</th>\n",
       "      <td>7.308900e+09</td>\n",
       "      <td>6.450000e+05</td>\n",
       "      <td>4.000000</td>\n",
       "      <td>2.500000</td>\n",
       "      <td>2550.000000</td>\n",
       "      <td>1.068600e+04</td>\n",
       "      <td>2.000000</td>\n",
       "      <td>0.000000</td>\n",
       "      <td>0.000000</td>\n",
       "      <td>4.000000</td>\n",
       "      <td>8.000000</td>\n",
       "      <td>2210.000000</td>\n",
       "      <td>560.000000</td>\n",
       "      <td>1997.000000</td>\n",
       "      <td>0.000000</td>\n",
       "      <td>98118.000000</td>\n",
       "      <td>47.678000</td>\n",
       "      <td>-122.125000</td>\n",
       "      <td>2360.000000</td>\n",
       "      <td>10083.000000</td>\n",
       "    </tr>\n",
       "    <tr>\n",
       "      <th>max</th>\n",
       "      <td>9.900000e+09</td>\n",
       "      <td>7.062500e+06</td>\n",
       "      <td>33.000000</td>\n",
       "      <td>7.750000</td>\n",
       "      <td>10040.000000</td>\n",
       "      <td>1.651359e+06</td>\n",
       "      <td>3.500000</td>\n",
       "      <td>1.000000</td>\n",
       "      <td>4.000000</td>\n",
       "      <td>5.000000</td>\n",
       "      <td>13.000000</td>\n",
       "      <td>8860.000000</td>\n",
       "      <td>4820.000000</td>\n",
       "      <td>2015.000000</td>\n",
       "      <td>2015.000000</td>\n",
       "      <td>98199.000000</td>\n",
       "      <td>47.777600</td>\n",
       "      <td>-121.315000</td>\n",
       "      <td>6210.000000</td>\n",
       "      <td>871200.000000</td>\n",
       "    </tr>\n",
       "  </tbody>\n",
       "</table>\n",
       "</div>"
      ],
      "text/plain": [
       "                 id         price      bedrooms     bathrooms   sqft_living  \\\n",
       "count  2.161100e+04  2.161100e+04  21611.000000  21611.000000  21611.000000   \n",
       "mean   4.580356e+09  5.396763e+05      3.370552      2.114213   2078.908102   \n",
       "std    2.876570e+09  3.637064e+05      0.929605      0.768115    912.651878   \n",
       "min    1.000102e+06  7.500000e+04      0.000000      0.000000    290.000000   \n",
       "25%    2.123049e+09  3.217250e+05      3.000000      1.750000   1426.000000   \n",
       "50%    3.904930e+09  4.500000e+05      3.000000      2.250000   1910.000000   \n",
       "75%    7.308900e+09  6.450000e+05      4.000000      2.500000   2550.000000   \n",
       "max    9.900000e+09  7.062500e+06     33.000000      7.750000  10040.000000   \n",
       "\n",
       "           sqft_lot        floors    waterfront          view     condition  \\\n",
       "count  2.161100e+04  21611.000000  21611.000000  21611.000000  21611.000000   \n",
       "mean   1.509285e+04      1.494193      0.007542      0.234001      3.409421   \n",
       "std    4.137447e+04      0.539873      0.086521      0.765694      0.650755   \n",
       "min    5.200000e+02      1.000000      0.000000      0.000000      1.000000   \n",
       "25%    5.040000e+03      1.000000      0.000000      0.000000      3.000000   \n",
       "50%    7.617000e+03      1.500000      0.000000      0.000000      3.000000   \n",
       "75%    1.068600e+04      2.000000      0.000000      0.000000      4.000000   \n",
       "max    1.651359e+06      3.500000      1.000000      4.000000      5.000000   \n",
       "\n",
       "              grade    sqft_above  sqft_basement      yr_built  yr_renovated  \\\n",
       "count  21611.000000  21611.000000   21611.000000  21611.000000  21611.000000   \n",
       "mean       7.656425   1787.724215     291.183888   1971.006663     84.318125   \n",
       "std        1.174579    825.215995     441.291767     29.371221    401.488852   \n",
       "min        1.000000    290.000000       0.000000   1900.000000      0.000000   \n",
       "25%        7.000000   1190.000000       0.000000   1951.000000      0.000000   \n",
       "50%        7.000000   1560.000000       0.000000   1975.000000      0.000000   \n",
       "75%        8.000000   2210.000000     560.000000   1997.000000      0.000000   \n",
       "max       13.000000   8860.000000    4820.000000   2015.000000   2015.000000   \n",
       "\n",
       "            zipcode           lat          long  sqft_living15     sqft_lot15  \n",
       "count  21611.000000  21611.000000  21611.000000   21611.000000   21611.000000  \n",
       "mean   98077.939845     47.560044   -122.213902    1986.329601   12759.151913  \n",
       "std       53.506983      0.138567      0.140824     685.017270   27269.783781  \n",
       "min    98001.000000     47.155900   -122.519000     399.000000     651.000000  \n",
       "25%    98033.000000     47.470950   -122.328000    1490.000000    5100.000000  \n",
       "50%    98065.000000     47.571800   -122.230000    1840.000000    7620.000000  \n",
       "75%    98118.000000     47.678000   -122.125000    2360.000000   10083.000000  \n",
       "max    98199.000000     47.777600   -121.315000    6210.000000  871200.000000  "
      ]
     },
     "execution_count": 13,
     "metadata": {},
     "output_type": "execute_result"
    }
   ],
   "source": [
    "data.describe()"
   ]
  },
  {
   "cell_type": "code",
   "execution_count": 27,
   "metadata": {},
   "outputs": [
    {
     "name": "stdout",
     "output_type": "stream",
     "text": [
      "(21611, 2) (21611,)\n",
      "Mean squared error is 67250150532.94187\n",
      "Parameters are [ 2.81253230e+02 -2.73501597e-01]\n"
     ]
    }
   ],
   "source": [
    "X = np.array(data[['sqft_living' , 'sqft_lot']])\n",
    "y = np.array(data['price'])\n",
    "print(X.shape,y.shape)\n",
    "model8 = LinearRegression(normalize=True)\n",
    "model8.fit(X,y)\n",
    "y_pred = model8.predict(X)\n",
    "mse = mean_squared_error(y_pred,y)\n",
    "print(\"Mean squared error is {}\".format(mse))\n",
    "print(\"Parameters are {}\".format(model8.coef_))"
   ]
  },
  {
   "cell_type": "code",
   "execution_count": 34,
   "metadata": {},
   "outputs": [
    {
     "name": "stdout",
     "output_type": "stream",
     "text": [
      "(21611, 44) (21611,)\n",
      "Mean squared error is 59930138285.54153\n",
      "Parameters are [ 2.95396568e+02 -4.02559203e-01 -9.48692827e+16 -9.48692827e+16\n",
      " -9.48692827e+16 -9.48692827e+16 -9.48692827e+16 -9.48692827e+16\n",
      " -9.48692827e+16 -9.48692827e+16 -9.48692827e+16 -9.48692827e+16\n",
      " -9.48692827e+16 -9.48692827e+16 -9.48692827e+16  5.42520952e+17\n",
      "  5.42520952e+17  5.42520952e+17  5.42520952e+17  5.42520952e+17\n",
      "  5.42520952e+17  5.42520952e+17  5.42520952e+17  5.42520952e+17\n",
      "  5.42520952e+17  5.42520952e+17  5.42520952e+17  5.42520952e+17\n",
      "  5.42520952e+17  5.42520952e+17  5.42520952e+17  5.42520952e+17\n",
      "  5.42520952e+17  5.42520952e+17  5.42520952e+17  5.42520952e+17\n",
      "  5.42520952e+17  5.42520952e+17  5.42520952e+17  5.42520952e+17\n",
      "  5.42520952e+17  5.42520952e+17  5.42520952e+17  5.42520952e+17]\n"
     ]
    }
   ],
   "source": [
    "col_sampled_data = data[['sqft_living' , 'sqft_lot' , 'bedrooms', 'bathrooms']]\n",
    "col_sampled_data = pd.get_dummies(col_sampled_data , columns=['bedrooms','bathrooms'])\n",
    "X = np.array(col_sampled_data)\n",
    "y = np.array(data['price'])\n",
    "print(X.shape,y.shape)\n",
    "model9 = LinearRegression(normalize=True)\n",
    "model9.fit(X,y)\n",
    "y_pred = model9.predict(X)\n",
    "mse = mean_squared_error(y_pred,y)\n",
    "print(\"Mean squared error is {}\".format(mse))\n",
    "print(\"Parameters are {}\".format(model9.coef_))"
   ]
  },
  {
   "cell_type": "code",
   "execution_count": 36,
   "metadata": {},
   "outputs": [
    {
     "data": {
      "text/plain": [
       "count    2.161100e+04\n",
       "mean     1.509285e+04\n",
       "std      4.137447e+04\n",
       "min      5.200000e+02\n",
       "25%      5.040000e+03\n",
       "50%      7.617000e+03\n",
       "75%      1.068600e+04\n",
       "max      1.651359e+06\n",
       "Name: sqft_lot, dtype: float64"
      ]
     },
     "execution_count": 36,
     "metadata": {},
     "output_type": "execute_result"
    }
   ],
   "source": [
    "sqft_lot = data['sqft_lot']\n",
    "sqft_lot.describe()"
   ]
  },
  {
   "cell_type": "code",
   "execution_count": 38,
   "metadata": {},
   "outputs": [
    {
     "data": {
      "text/plain": [
       "count    2.161100e+04\n",
       "mean     2.630300e-18\n",
       "std      1.000023e+00\n",
       "min     -3.522265e-01\n",
       "25%     -2.429778e-01\n",
       "50%     -1.806916e-01\n",
       "75%     -1.065137e-01\n",
       "max      3.954864e+01\n",
       "Name: sqft_lot, dtype: float64"
      ]
     },
     "execution_count": 38,
     "metadata": {},
     "output_type": "execute_result"
    }
   ],
   "source": [
    "standardized_sqft_lot = (sqft_lot - np.mean(sqft_lot))/np.std(sqft_lot)\n",
    "standardized_sqft_lot.describe()"
   ]
  },
  {
   "cell_type": "code",
   "execution_count": 39,
   "metadata": {},
   "outputs": [
    {
     "data": {
      "text/plain": [
       "count    21611.000000\n",
       "mean         0.008828\n",
       "std          0.025063\n",
       "min          0.000000\n",
       "25%          0.002738\n",
       "50%          0.004299\n",
       "75%          0.006158\n",
       "max          1.000000\n",
       "Name: sqft_lot, dtype: float64"
      ]
     },
     "execution_count": 39,
     "metadata": {},
     "output_type": "execute_result"
    }
   ],
   "source": [
    "normalized_sqft_lot = (sqft_lot - np.min(sqft_lot))/(np.max(sqft_lot) - np.min(sqft_lot))\n",
    "normalized_sqft_lot.describe()"
   ]
  },
  {
   "cell_type": "code",
   "execution_count": 43,
   "metadata": {},
   "outputs": [
    {
     "name": "stdout",
     "output_type": "stream",
     "text": [
      "(21611, 44) (21611,)\n",
      "Mean squared error is 59930473063.13023\n",
      "Parameters are [ 2.69516063e+05 -1.65867231e+04 -3.94471503e+15 -1.53671151e+16\n",
      " -5.36981010e+16 -8.01093132e+16 -7.49516426e+16 -4.21363003e+16\n",
      " -1.79027210e+16 -6.65125180e+15 -3.94471503e+15 -2.68034039e+15\n",
      " -1.89541845e+15 -1.09437099e+15 -1.09437099e+15 -1.74306537e+16\n",
      " -1.10256443e+16 -4.67041813e+16 -3.10190962e+17 -1.65365528e+16\n",
      " -2.02516310e+17 -2.82103394e+17 -2.31142061e+17 -2.37336479e+17\n",
      " -3.50461668e+17 -1.84513262e+17 -1.48631399e+17 -1.31968843e+17\n",
      " -1.46521273e+17 -6.83938381e+16 -6.40933228e+16 -4.89139210e+16\n",
      " -5.50056178e+16 -2.64269395e+16 -2.52529847e+16 -1.98726229e+16\n",
      " -1.74306537e+16 -1.10256443e+16 -1.35029764e+16 -7.79666869e+15\n",
      " -7.79666869e+15 -7.79666869e+15 -5.51320486e+15 -5.51320486e+15]\n"
     ]
    },
    {
     "name": "stderr",
     "output_type": "stream",
     "text": [
      "/home/dexter/.local/lib/python3.5/site-packages/sklearn/preprocessing/data.py:617: DataConversionWarning: Data with input dtype uint8, int64 were all converted to float64 by StandardScaler.\n",
      "  return self.partial_fit(X, y)\n",
      "/home/dexter/.local/lib/python3.5/site-packages/sklearn/base.py:462: DataConversionWarning: Data with input dtype uint8, int64 were all converted to float64 by StandardScaler.\n",
      "  return self.fit(X, **fit_params).transform(X)\n"
     ]
    }
   ],
   "source": [
    "col_sampled_data = data[['sqft_living' , 'sqft_lot' , 'bedrooms', 'bathrooms']]\n",
    "col_sampled_data = pd.get_dummies(col_sampled_data , columns=['bedrooms','bathrooms'])\n",
    "scaler = StandardScaler()\n",
    "col_sampled_data = scaler.fit_transform(col_sampled_data)\n",
    "X = np.array(col_sampled_data)\n",
    "y = np.array(data['price'])\n",
    "print(X.shape,y.shape)\n",
    "model9 = LinearRegression()\n",
    "model9.fit(X,y)\n",
    "y_pred = model9.predict(X)\n",
    "mse = mean_squared_error(y_pred,y)\n",
    "print(\"Mean squared error is {}\".format(mse))\n",
    "print(\"Parameters are {}\".format(model9.coef_))"
   ]
  },
  {
   "cell_type": "code",
   "execution_count": null,
   "metadata": {},
   "outputs": [],
   "source": []
  }
 ],
 "metadata": {
  "kernelspec": {
   "display_name": "Python 3",
   "language": "python",
   "name": "python3"
  },
  "language_info": {
   "codemirror_mode": {
    "name": "ipython",
    "version": 3
   },
   "file_extension": ".py",
   "mimetype": "text/x-python",
   "name": "python",
   "nbconvert_exporter": "python",
   "pygments_lexer": "ipython3",
   "version": "3.6.7"
  }
 },
 "nbformat": 4,
 "nbformat_minor": 2
}
